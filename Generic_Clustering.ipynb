{
 "cells": [
  {
   "cell_type": "code",
   "execution_count": 4,
   "metadata": {},
   "outputs": [],
   "source": [
    "# Import required libraries\n",
    "import pandas as pd #Manipulating dataframes(spreadsheet kind of data)\n",
    "import numpy as np #To do efficient computations\n",
    "import matplotlib.pyplot as plt #For visualization\n",
    "from sklearn.cluster import KMeans #K-Means Clustering Library\n",
    "from sklearn.decomposition import PCA #For converting higher dimensional data into 2D\n",
    "\n",
    "# Generic Settings\n",
    "#Setting for plotting inside notebook\n",
    "%matplotlib inline"
   ]
  },
  {
   "cell_type": "code",
   "execution_count": 66,
   "metadata": {},
   "outputs": [],
   "source": [
    "class Clustering:\n",
    "    def generateRandomData(self):\n",
    "        '''Generate some random x and y co-ordinates'''\n",
    "        X= -1 * np.random.rand(100,2)\n",
    "        X1 = 1 + np.random.rand(50,2)\n",
    "        X[50:100, :] = X1\n",
    "        return X\n",
    "    \n",
    "    def scatterPlot(self, X, centroid=[]):\n",
    "        '''Visualize the data'''\n",
    "        if len(centroid) == 0:\n",
    "            plt.scatter(X[:,0], X[:,1], s=30, c=\"b\")\n",
    "            plt.show()\n",
    "        else:\n",
    "            for item in centroid:\n",
    "                plt.scatter(item[0], item[1], s=200, c=\"r\", marker=\"s\")\n",
    "            plt.scatter(X[:,0], X[:,1], s=30)\n",
    "            plt.show()\n",
    "        \n",
    "    def runKMeansClustering(self, X, n_clusters):\n",
    "        '''Executing KMeans alogrithm on passed data'''\n",
    "        Kmean = KMeans(n_clusters=n_clusters)\n",
    "        Kmean.fit(X)\n",
    "        return Kmean\n",
    "    \n",
    "    def runPCA(self, X):\n",
    "        '''Convert multi dimensional data to 2D'''\n",
    "        lowerDimension = PCA(2)\n",
    "        convertedData = lowerDimension.fit_transform(clusterDF_imputed_np)\n",
    "        return convertedData\n",
    "        \n",
    "    def getCentroid(self, model):\n",
    "        return model.cluster_centers_"
   ]
  },
  {
   "cell_type": "code",
   "execution_count": 67,
   "metadata": {},
   "outputs": [
    {
     "data": {
      "image/png": "[encoded data removed]",
      "text/plain": [
       "<Figure size 432x288 with 1 Axes>"
      ]
     },
     "metadata": {},
     "output_type": "display_data"
    }
   ],
   "source": [
    "if __name__ == \"__main__\":\n",
    "    # Create an object of Clustering Class\n",
    "    myObj = Clustering()\n",
    "    # In order to run the clustering with your own data, comment the below line\n",
    "    # and replace the X with your numpy array\n",
    "    X = myObj.generateRandomData()\n",
    "    model = myObj.runKMeansClustering(X, 6) # Training\n",
    "    centroid = myObj.getCentroid(model)\n",
    "    myObj.scatterPlot(X, centroid) # For Plotting"
   ]
  },
  {
   "cell_type": "code",
   "execution_count": null,
   "metadata": {},
   "outputs": [],
   "source": []
  }
 ],
 "metadata": {
  "kernelspec": {
   "display_name": "Python 3",
   "language": "python",
   "name": "python3"
  },
  "language_info": {
   "codemirror_mode": {
    "name": "ipython",
    "version": 3
   },
   "file_extension": ".py",
   "mimetype": "text/x-python",
   "name": "python",
   "nbconvert_exporter": "python",
   "pygments_lexer": "ipython3",
   "version": "3.5.2"
  }
 },
 "nbformat": 4,
 "nbformat_minor": 2
}
